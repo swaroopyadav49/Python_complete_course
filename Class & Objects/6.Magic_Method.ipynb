{
 "cells": [
  {
   "cell_type": "markdown",
   "id": "a7d975cf",
   "metadata": {},
   "source": [
    "# Magic Methods"
   ]
  },
  {
   "cell_type": "markdown",
   "id": "4f4d3986",
   "metadata": {},
   "source": [
    "Magic Methods in python, also known as dunder methods (double underscore methods) are special methods that starts and end with double underscores. These methods enable you to define the behaviour of objects for built-in operations, such as arithmethic operations, comparisons and more"
   ]
  },
  {
   "cell_type": "markdown",
   "id": "3995634c",
   "metadata": {},
   "source": [
    "# Magic Methods"
   ]
  },
  {
   "cell_type": "markdown",
   "id": "3c7c8dfd",
   "metadata": {},
   "source": [
    "Magic methods are predefined methods in python that you can override to change the behaviour of your objects. some common magic methods include:\n",
    "\n",
    "- **init**: initialize a new instance of a class.\n",
    "- **str**: Returns a string representation of an object. \n",
    "- **repr**: Returns an offical string representation of an object.\n",
    "- **len**: Returns the length of an object.\n",
    "- **getitem**: Gets an item from a container.\n",
    "- **setitem**: Sets an item in a container."
   ]
  },
  {
   "cell_type": "code",
   "execution_count": 1,
   "id": "593d469f",
   "metadata": {},
   "outputs": [
    {
     "data": {
      "text/plain": [
       "['__class__',\n",
       " '__delattr__',\n",
       " '__dict__',\n",
       " '__dir__',\n",
       " '__doc__',\n",
       " '__eq__',\n",
       " '__format__',\n",
       " '__ge__',\n",
       " '__getattribute__',\n",
       " '__gt__',\n",
       " '__hash__',\n",
       " '__init__',\n",
       " '__init_subclass__',\n",
       " '__le__',\n",
       " '__lt__',\n",
       " '__module__',\n",
       " '__ne__',\n",
       " '__new__',\n",
       " '__reduce__',\n",
       " '__reduce_ex__',\n",
       " '__repr__',\n",
       " '__setattr__',\n",
       " '__sizeof__',\n",
       " '__str__',\n",
       " '__subclasshook__',\n",
       " '__weakref__']"
      ]
     },
     "execution_count": 1,
     "metadata": {},
     "output_type": "execute_result"
    }
   ],
   "source": [
    "class Person:\n",
    "    pass\n",
    "\n",
    "person = Person()\n",
    "dir(person)"
   ]
  },
  {
   "cell_type": "code",
   "execution_count": 2,
   "id": "051a3ea1",
   "metadata": {},
   "outputs": [
    {
     "name": "stdout",
     "output_type": "stream",
     "text": [
      "<__main__.Person object at 0x000001EB5E546C80>\n"
     ]
    }
   ],
   "source": [
    "print(person)"
   ]
  },
  {
   "cell_type": "code",
   "execution_count": 5,
   "id": "dd748163",
   "metadata": {},
   "outputs": [
    {
     "name": "stdout",
     "output_type": "stream",
     "text": [
      "<__main__.Person object at 0x000001EB5E5470D0>\n"
     ]
    }
   ],
   "source": [
    "## basic Methods\n",
    "class Person:\n",
    "    def __init__(self, name, age):\n",
    "        self.name = name\n",
    "        self.age = age\n",
    "        \n",
    "person=Person(\"kumar\", 28)\n",
    "print(person)"
   ]
  },
  {
   "cell_type": "markdown",
   "id": "f723e8bf",
   "metadata": {},
   "source": [
    "- If wanted to overwrite memory message, will define another function called str."
   ]
  },
  {
   "cell_type": "code",
   "execution_count": 8,
   "id": "1d9b2043",
   "metadata": {},
   "outputs": [
    {
     "name": "stdout",
     "output_type": "stream",
     "text": [
      "Kumar ,28 years old\n"
     ]
    }
   ],
   "source": [
    "class Person:\n",
    "    def __init__(self, name, age):\n",
    "        self.name = name\n",
    "        self.age = age\n",
    "        \n",
    "    def __str__(self):\n",
    "        return f\"{self.name} ,{self.age} years old\"\n",
    "\n",
    "person = Person(\"Kumar\", 28)\n",
    "print(person)"
   ]
  },
  {
   "cell_type": "code",
   "execution_count": 10,
   "id": "810ee9cd",
   "metadata": {},
   "outputs": [
    {
     "name": "stdout",
     "output_type": "stream",
     "text": [
      "Kumar ,28 years old\n",
      "Person(name=Kumar,age=28)\n"
     ]
    }
   ],
   "source": [
    "class Person:\n",
    "    def __init__(self, name, age):\n",
    "        self.name = name\n",
    "        self.age = age\n",
    "        \n",
    "    def __str__(self):\n",
    "        return f\"{self.name} ,{self.age} years old\"\n",
    "    \n",
    "    def __repr__(self):\n",
    "        return f\"Person(name={self.name},age={self.age})\"\n",
    "\n",
    "person = Person(\"Kumar\", 28)\n",
    "print(person)\n",
    "print(repr(person))"
   ]
  }
 ],
 "metadata": {
  "kernelspec": {
   "display_name": "Python 3 (ipykernel)",
   "language": "python",
   "name": "python3"
  },
  "language_info": {
   "codemirror_mode": {
    "name": "ipython",
    "version": 3
   },
   "file_extension": ".py",
   "mimetype": "text/x-python",
   "name": "python",
   "nbconvert_exporter": "python",
   "pygments_lexer": "ipython3",
   "version": "3.10.9"
  }
 },
 "nbformat": 4,
 "nbformat_minor": 5
}
