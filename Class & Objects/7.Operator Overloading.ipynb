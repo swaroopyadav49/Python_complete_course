{
 "cells": [
  {
   "cell_type": "markdown",
   "id": "dbacaa54",
   "metadata": {},
   "source": [
    "## Operator Overloading."
   ]
  },
  {
   "cell_type": "markdown",
   "id": "cdb31862",
   "metadata": {},
   "source": [
    "Operator overloading allows you to define the behaviour of operators(+, -, *, etc) for custom objects. you achieve this by overriding specific magic methods in your class."
   ]
  },
  {
   "cell_type": "markdown",
   "id": "dd31ed93",
   "metadata": {},
   "source": [
    "### Common operator overloading Magic Methods.\n",
    "\n",
    "- __add__(self,other): Adds two objects using the + operator.\n",
    "- __sub__(self,other): Subtracts two objects using the - operator.\n",
    "- __mul__(self,other): Multiplies two objects using the * operator.\n",
    "- __trudiv__(self,other): Divides two objects using the / opearotor.\n",
    "- __eq__(self,other): Checks if two objects are equal using the == operator.\n",
    "- __lt__(self,other): Checks if one objects is less than another using the <.opeartor.>\n",
    "\n"
   ]
  },
  {
   "cell_type": "code",
   "execution_count": 3,
   "id": "0ec99f7e",
   "metadata": {},
   "outputs": [
    {
     "name": "stdout",
     "output_type": "stream",
     "text": [
      "Vector(6, 8)\n"
     ]
    },
    {
     "data": {
      "text/plain": [
       "Vector(-2, -2)"
      ]
     },
     "execution_count": 3,
     "metadata": {},
     "output_type": "execute_result"
    }
   ],
   "source": [
    "class Vector:\n",
    "    def __init__(self,x,y):\n",
    "        self.x = x\n",
    "        self.y = y\n",
    "        \n",
    "    def __add__(self,other):\n",
    "        return Vector(self.x+other.x, self.y+other.y)\n",
    "    \n",
    "    def __sub__(self,other):\n",
    "        return Vector(self.x-other.x, self.y-other.y)\n",
    "    \n",
    "    def __mul__(self,other):\n",
    "        return Vector(self.x*other.x, self.y*other.y)\n",
    "    \n",
    "    def __eq__(self, other):\n",
    "        return Vector(self.x==other.x, self.y==other.y)\n",
    "    \n",
    "    def __repr__(self):\n",
    "        return f\"Vector({self.x}, {self.y})\"\n",
    "    \n",
    "## create objects of the vector class.\n",
    "v1 = Vector(2,3)\n",
    "v2 = Vector(4,5)\n",
    "\n",
    "print(v1+v2)\n",
    "v1-v2"
   ]
  }
 ],
 "metadata": {
  "kernelspec": {
   "display_name": "Python 3 (ipykernel)",
   "language": "python",
   "name": "python3"
  },
  "language_info": {
   "codemirror_mode": {
    "name": "ipython",
    "version": 3
   },
   "file_extension": ".py",
   "mimetype": "text/x-python",
   "name": "python",
   "nbconvert_exporter": "python",
   "pygments_lexer": "ipython3",
   "version": "3.10.9"
  }
 },
 "nbformat": 4,
 "nbformat_minor": 5
}
